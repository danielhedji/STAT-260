{
 "cells": [
  {
   "cell_type": "code",
   "execution_count": 4,
   "metadata": {},
   "outputs": [
    {
     "data": {
      "text/html": [
       "0.0728840118226493"
      ],
      "text/latex": [
       "0.0728840118226493"
      ],
      "text/markdown": [
       "0.0728840118226493"
      ],
      "text/plain": [
       "[1] 0.07288401"
      ]
     },
     "metadata": {},
     "output_type": "display_data"
    }
   ],
   "source": [
    "rate = 7.5\n",
    "totTime = 4.5\n",
    "ppois(25,lambda = rate*totTime)"
   ]
  },
  {
   "cell_type": "code",
   "execution_count": 5,
   "metadata": {},
   "outputs": [
    {
     "data": {
      "text/html": [
       "0.0584944249506821"
      ],
      "text/latex": [
       "0.0584944249506821"
      ],
      "text/markdown": [
       "0.0584944249506821"
      ],
      "text/plain": [
       "[1] 0.05849442"
      ]
     },
     "metadata": {},
     "output_type": "display_data"
    }
   ],
   "source": [
    "p30 = ppois(30, lambda = rate*totTime) \n",
    "p29 = ppois(29, lambda = rate*totTime)\n",
    "p30 - p29"
   ]
  },
  {
   "cell_type": "code",
   "execution_count": 18,
   "metadata": {},
   "outputs": [
    {
     "data": {
      "text/html": [
       "0.318053149668485"
      ],
      "text/latex": [
       "0.318053149668485"
      ],
      "text/markdown": [
       "0.318053149668485"
      ],
      "text/plain": [
       "[1] 0.3180531"
      ]
     },
     "metadata": {},
     "output_type": "display_data"
    }
   ],
   "source": [
    "p31r = ppois(31, lambda = rate*totTime, lower = FALSE)\n",
    "p31l = ppois(31, lambda = rate*totTime, lower = TRUE)\n",
    "p34 = ppois(34, lambda = rate*totTime)\n",
    "pInt = p34 - p31l\n",
    "pInt / p31r"
   ]
  },
  {
   "cell_type": "code",
   "execution_count": 32,
   "metadata": {},
   "outputs": [
    {
     "data": {
      "text/html": [
       "0.0419851475892794"
      ],
      "text/latex": [
       "0.0419851475892794"
      ],
      "text/markdown": [
       "0.0419851475892794"
      ],
      "text/plain": [
       "[1] 0.04198515"
      ]
     },
     "metadata": {},
     "output_type": "display_data"
    }
   ],
   "source": [
    "brit = 1.3 / 100\n",
    "sample = 100\n",
    "1 - pbinom(3,sample,brit)"
   ]
  },
  {
   "cell_type": "code",
   "execution_count": 38,
   "metadata": {},
   "outputs": [
    {
     "data": {
      "text/html": [
       "0.0085720956683113"
      ],
      "text/latex": [
       "0.0085720956683113"
      ],
      "text/markdown": [
       "0.0085720956683113"
      ],
      "text/plain": [
       "[1] 0.008572096"
      ]
     },
     "metadata": {},
     "output_type": "display_data"
    }
   ],
   "source": [
    "1 - pnorm(4, mean = 1.3, sd = sqrt(brit * sample * (1 - brit)))"
   ]
  },
  {
   "cell_type": "code",
   "execution_count": 39,
   "metadata": {},
   "outputs": [
    {
     "data": {
      "text/html": [
       "0.632298395210374"
      ],
      "text/latex": [
       "0.632298395210374"
      ],
      "text/markdown": [
       "0.632298395210374"
      ],
      "text/plain": [
       "[1] 0.6322984"
      ]
     },
     "metadata": {},
     "output_type": "display_data"
    }
   ],
   "source": [
    "av =  28.3\n",
    "std = 1.23\n",
    "pnorm(30.7,av,std) - pnorm(27.8,av,std)"
   ]
  },
  {
   "cell_type": "code",
   "execution_count": 40,
   "metadata": {},
   "outputs": [
    {
     "data": {
      "text/html": [
       "0.164628944005446"
      ],
      "text/latex": [
       "0.164628944005446"
      ],
      "text/markdown": [
       "0.164628944005446"
      ],
      "text/plain": [
       "[1] 0.1646289"
      ]
     },
     "metadata": {},
     "output_type": "display_data"
    }
   ],
   "source": [
    "1 - pnorm(29.5,av,std)"
   ]
  },
  {
   "cell_type": "code",
   "execution_count": 42,
   "metadata": {},
   "outputs": [
    {
     "data": {
      "text/html": [
       "0.87058072697996"
      ],
      "text/latex": [
       "0.87058072697996"
      ],
      "text/markdown": [
       "0.87058072697996"
      ],
      "text/plain": [
       "[1] 0.8705807"
      ]
     },
     "metadata": {},
     "output_type": "display_data"
    }
   ],
   "source": [
    "union = pnorm(30.5,av,std) - pnorm(29,av,std)\n",
    "union / (1-pnorm(29,av,std))"
   ]
  },
  {
   "cell_type": "code",
   "execution_count": null,
   "metadata": {},
   "outputs": [],
   "source": []
  }
 ],
 "metadata": {
  "kernelspec": {
   "display_name": "R",
   "language": "R",
   "name": "ir"
  },
  "language_info": {
   "codemirror_mode": "r",
   "file_extension": ".r",
   "mimetype": "text/x-r-source",
   "name": "R",
   "pygments_lexer": "r",
   "version": "3.5.1"
  }
 },
 "nbformat": 4,
 "nbformat_minor": 2
}
