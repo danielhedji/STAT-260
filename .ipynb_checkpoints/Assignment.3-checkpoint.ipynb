{
 "cells": [
  {
   "cell_type": "code",
   "execution_count": 3,
   "metadata": {},
   "outputs": [
    {
     "data": {
      "text/plain": [
       "\n",
       "\tOne Sample t-test\n",
       "\n",
       "data:  sodium.content\n",
       "t = 332.57, df = 7, p-value = 5.868e-16\n",
       "alternative hypothesis: true mean is not equal to 0\n",
       "96 percent confidence interval:\n",
       " 512.2192 520.0308\n",
       "sample estimates:\n",
       "mean of x \n",
       "  516.125 \n"
      ]
     },
     "metadata": {},
     "output_type": "display_data"
    }
   ],
   "source": [
    "#Part 1a\n",
    "#In this part I'm assuming the distribution follows \n",
    "#normal distribution patterns such that a t-test can be done\n",
    "sodium.content <- c(510,520,515,516,517,519,522,510)\n",
    "n = 8\n",
    "t.test(sodium.content, conf.level = 0.96)"
   ]
  },
  {
   "cell_type": "markdown",
   "metadata": {},
   "source": [
    "Part 1b <br/>\n",
    "I would consider 515 a reasonable estimate for the mean sodium content found in the cans. Using the confidence interval from above, the estimate of 515 lies within the lower-bound of 512.2192 and the upper-bound of 520.0308."
   ]
  },
  {
   "cell_type": "code",
   "execution_count": 4,
   "metadata": {},
   "outputs": [
    {
     "data": {
      "text/plain": [
       "\n",
       "\tOne Sample t-test\n",
       "\n",
       "data:  comp.strength\n",
       "t = 1.3892, df = 4, p-value = 0.1185\n",
       "alternative hypothesis: true mean is greater than 35\n",
       "95 percent confidence interval:\n",
       " 34.77549      Inf\n",
       "sample estimates:\n",
       "mean of x \n",
       "    35.42 \n"
      ]
     },
     "metadata": {},
     "output_type": "display_data"
    }
   ],
   "source": [
    "#Part 2a\n",
    "comp.strength <- c(35.1,34.4,35.8,36.1,35.7)\n",
    "t.test(comp.strength, mu = 35, alternative = \"greater\")"
   ]
  },
  {
   "cell_type": "markdown",
   "metadata": {},
   "source": [
    "Part 2b <br/>\n",
    "The observed value was found to be 1.3892 using a 1-tailed test."
   ]
  },
  {
   "cell_type": "markdown",
   "metadata": {},
   "source": [
    "Part 2c <br/>\n",
    "The p-value was found to be 0.1185 using a 1-tailed test."
   ]
  },
  {
   "cell_type": "markdown",
   "metadata": {},
   "source": [
    "Part 2d <br/>\n",
    "Using an alpha value of 0.01, and comparing that to the found p-value of 0.1185, since the p-value is greater than the alpha value we wish to work with, we fail to reject the null."
   ]
  },
  {
   "cell_type": "code",
   "execution_count": 15,
   "metadata": {},
   "outputs": [
    {
     "data": {
      "text/html": [
       "1.11563219437817"
      ],
      "text/latex": [
       "1.11563219437817"
      ],
      "text/markdown": [
       "1.11563219437817"
      ],
      "text/plain": [
       "[1] 1.115632"
      ]
     },
     "metadata": {},
     "output_type": "display_data"
    }
   ],
   "source": [
    "#Part 3a\n",
    "sodium.1 <- c(580,592,588,589,583)\n",
    "sodium.2 <- c(579,582,577,591,581)\n",
    "s1 = sd(sodium.1)\n",
    "s2 = sd(sodium.2)\n",
    "s2/s1"
   ]
  },
  {
   "cell_type": "markdown",
   "metadata": {},
   "source": [
    "Since the value of the quotient between the two standard deviations is less than 1.4 (approximately 1.12), pooled procedures should be used."
   ]
  },
  {
   "cell_type": "code",
   "execution_count": 17,
   "metadata": {},
   "outputs": [
    {
     "data": {
      "text/plain": [
       "\n",
       "\tTwo Sample t-test\n",
       "\n",
       "data:  sodium.1 and sodium.2\n",
       "t = 1.3605, df = 8, p-value = 0.2108\n",
       "alternative hypothesis: true difference in means is not equal to 0\n",
       "95 percent confidence interval:\n",
       " -3.058061 11.858061\n",
       "sample estimates:\n",
       "mean of x mean of y \n",
       "    586.4     582.0 \n"
      ]
     },
     "metadata": {},
     "output_type": "display_data"
    }
   ],
   "source": [
    "#Part 3b\n",
    "t.test(sodium.1, sodium.2, var.equal = TRUE, mu = 0, alternative = \"two.sided\")"
   ]
  },
  {
   "cell_type": "markdown",
   "metadata": {},
   "source": [
    "Part 3c <br/>\n",
    "The p-value was found to be 0.2108"
   ]
  },
  {
   "cell_type": "markdown",
   "metadata": {},
   "source": [
    "Part 3d <br/>\n",
    "Since the p-value was found to be 0.2108, there is little-to-no evidence to against the null hypothesis, since 0.2108 > 0.1."
   ]
  }
 ],
 "metadata": {
  "kernelspec": {
   "display_name": "R",
   "language": "R",
   "name": "ir"
  },
  "language_info": {
   "codemirror_mode": "r",
   "file_extension": ".r",
   "mimetype": "text/x-r-source",
   "name": "R",
   "pygments_lexer": "r",
   "version": "3.5.1"
  }
 },
 "nbformat": 4,
 "nbformat_minor": 2
}
