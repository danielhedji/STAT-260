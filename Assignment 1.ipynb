{
 "cells": [
  {
   "cell_type": "code",
   "execution_count": 2,
   "metadata": {
    "scrolled": true
   },
   "outputs": [
    {
     "data": {
      "image/png": "[encoded data removed]",
      "text/plain": [
       "Plot with title “Morning vs. Evening exam scores”"
      ]
     },
     "metadata": {},
     "output_type": "display_data"
    }
   ],
   "source": [
    "morning <- c(39, 35, 39, 39, 40, 37, 41, 39, 42, 40, 37, 35, 38, 36, 40, 35, 38, 36, 39, 35,\n",
    "38, 35, 39, 38, 41, 39, 38, 40, 38, 41, 41, 37, 34, 41, 37, 41, 35, 39, 36, 41)\n",
    "evening <- c(35, 47, 29, 34, 26, 34, 38, 45, 44, 49, 37, 37, 37, 37, 40, 26, 29, 30, 23, 38,\n",
    "32, 36, 45, 39, 31, 42, 41, 35, 34, 43, 31, 30, 37, 36, 33)\n",
    "boxplot(morning,evening, ylab = \"Student Marks (out of 50)\", xlab = \"Number of students\",\n",
    "       main = \"Morning vs. Evening exam scores\")\n"
   ]
  },
  {
   "cell_type": "code",
   "execution_count": 3,
   "metadata": {},
   "outputs": [],
   "source": [
    "med <- c(\"Median of the mark distribution: \")\n",
    "std <- c(\"Standard Deviation of the mark distribution: \")\n",
    "avg <- c(\"Average of the mark distribution: \")"
   ]
  },
  {
   "cell_type": "code",
   "execution_count": 4,
   "metadata": {
    "scrolled": true
   },
   "outputs": [
    {
     "data": {
      "text/html": [
       "<span style=white-space:pre-wrap>'Average of the mark distribution:  38.225'</span>"
      ],
      "text/latex": [
       "'Average of the mark distribution:  38.225'"
      ],
      "text/markdown": [
       "<span style=white-space:pre-wrap>'Average of the mark distribution:  38.225'</span>"
      ],
      "text/plain": [
       "[1] \"Average of the mark distribution:  38.225\""
      ]
     },
     "metadata": {},
     "output_type": "display_data"
    },
    {
     "data": {
      "text/html": [
       "<span style=white-space:pre-wrap>'Standard Deviation of the mark distribution:  2.18957319339427'</span>"
      ],
      "text/latex": [
       "'Standard Deviation of the mark distribution:  2.18957319339427'"
      ],
      "text/markdown": [
       "<span style=white-space:pre-wrap>'Standard Deviation of the mark distribution:  2.18957319339427'</span>"
      ],
      "text/plain": [
       "[1] \"Standard Deviation of the mark distribution:  2.18957319339427\""
      ]
     },
     "metadata": {},
     "output_type": "display_data"
    },
    {
     "data": {
      "text/html": [
       "<span style=white-space:pre-wrap>'Median of the mark distribution:  38.5'</span>"
      ],
      "text/latex": [
       "'Median of the mark distribution:  38.5'"
      ],
      "text/markdown": [
       "<span style=white-space:pre-wrap>'Median of the mark distribution:  38.5'</span>"
      ],
      "text/plain": [
       "[1] \"Median of the mark distribution:  38.5\""
      ]
     },
     "metadata": {},
     "output_type": "display_data"
    }
   ],
   "source": [
    "#The standard deviation was found for fun\n",
    "paste(avg,mean(morning))\n",
    "paste(std,sd(morning))\n",
    "paste(med,median(morning))"
   ]
  },
  {
   "cell_type": "code",
   "execution_count": 5,
   "metadata": {
    "scrolled": true
   },
   "outputs": [
    {
     "data": {
      "text/html": [
       "<span style=white-space:pre-wrap>'Average of the mark distribution:  36'</span>"
      ],
      "text/latex": [
       "'Average of the mark distribution:  36'"
      ],
      "text/markdown": [
       "<span style=white-space:pre-wrap>'Average of the mark distribution:  36'</span>"
      ],
      "text/plain": [
       "[1] \"Average of the mark distribution:  36\""
      ]
     },
     "metadata": {},
     "output_type": "display_data"
    },
    {
     "data": {
      "text/html": [
       "<span style=white-space:pre-wrap>'Standard Deviation of the mark distribution:  6.16441400296898'</span>"
      ],
      "text/latex": [
       "'Standard Deviation of the mark distribution:  6.16441400296898'"
      ],
      "text/markdown": [
       "<span style=white-space:pre-wrap>'Standard Deviation of the mark distribution:  6.16441400296898'</span>"
      ],
      "text/plain": [
       "[1] \"Standard Deviation of the mark distribution:  6.16441400296898\""
      ]
     },
     "metadata": {},
     "output_type": "display_data"
    },
    {
     "data": {
      "text/html": [
       "<span style=white-space:pre-wrap>'Median of the mark distribution:  36'</span>"
      ],
      "text/latex": [
       "'Median of the mark distribution:  36'"
      ],
      "text/markdown": [
       "<span style=white-space:pre-wrap>'Median of the mark distribution:  36'</span>"
      ],
      "text/plain": [
       "[1] \"Median of the mark distribution:  36\""
      ]
     },
     "metadata": {},
     "output_type": "display_data"
    }
   ],
   "source": [
    "paste(avg,mean(evening))\n",
    "paste(std,sd(evening))\n",
    "paste(med,median(evening))"
   ]
  },
  {
   "cell_type": "markdown",
   "metadata": {},
   "source": [
    "In my opinion, I believe that the morning class did better than the evening class. What is observed when viewing the two box plots, is that there is much less of a spread between student grades for the morning class than the evening class. Although the evening class had students who received grades that were much higher than the students in the morning class, the class also had many students with significantly lower grades than the morning class as well, this is shown through the box plot. The variance found with the students found in the evening class and the lower overall average are why I believe the morning class had the better exam marks. This is also indicated through the higher average grade and median for the morning class compared to the evening class"
   ]
  },
  {
   "cell_type": "code",
   "execution_count": null,
   "metadata": {},
   "outputs": [],
   "source": []
  }
 ],
 "metadata": {
  "kernelspec": {
   "display_name": "R",
   "language": "R",
   "name": "ir"
  },
  "language_info": {
   "codemirror_mode": "r",
   "file_extension": ".r",
   "mimetype": "text/x-r-source",
   "name": "R",
   "pygments_lexer": "r",
   "version": "3.5.1"
  }
 },
 "nbformat": 4,
 "nbformat_minor": 2
}
